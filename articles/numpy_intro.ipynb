{
 "cells": [
  {
   "cell_type": "code",
   "execution_count": 1,
   "metadata": {},
   "outputs": [],
   "source": [
    "import numpy as np"
   ]
  },
  {
   "cell_type": "code",
   "execution_count": 11,
   "metadata": {},
   "outputs": [
    {
     "name": "stdout",
     "output_type": "stream",
     "text": [
      "[ 6  7  8  9 10]\n",
      "[ 7  8  9 10]\n",
      "[[ 2  4  6  8 10]\n",
      " [12 14 16 18 20]]\n",
      "[[ 1  2  4  4  5]\n",
      " [ 6  7  9  9 10]]\n"
     ]
    }
   ],
   "source": [
    "# declears 2-d numpy array (2-rows, 5-cols)\n",
    "nums = np.array([[ 1 , 2,  3,  4,  5],[ 6,  7,  8,  9, 10]]) \n",
    "# Print second row of nums\n",
    "print(nums[1,:])\n",
    "\n",
    "# # Print all elements of nums that are greater than six\n",
    "print( nums[nums > 6])\n",
    "\n",
    "# Double every element of nums\n",
    "nums_dbl = nums * 2\n",
    "print(nums_dbl)\n",
    "\n",
    "# # Replace the third column of nums\n",
    "nums[ : , 2] = nums[ :, 2] + 1\n",
    "print(nums)"
   ]
  }
 ],
 "metadata": {
  "interpreter": {
   "hash": "69b35e572c017242754d2580afe35edb3e077b807609d926fbd2f462de31a9e0"
  },
  "kernelspec": {
   "display_name": "Python 3.8.8 64-bit ('base': conda)",
   "language": "python",
   "name": "python3"
  },
  "language_info": {
   "codemirror_mode": {
    "name": "ipython",
    "version": 3
   },
   "file_extension": ".py",
   "mimetype": "text/x-python",
   "name": "python",
   "nbconvert_exporter": "python",
   "pygments_lexer": "ipython3",
   "version": "3.8.8"
  },
  "orig_nbformat": 4
 },
 "nbformat": 4,
 "nbformat_minor": 2
}
