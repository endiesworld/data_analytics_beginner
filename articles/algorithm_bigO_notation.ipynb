{
 "cells": [
  {
   "cell_type": "markdown",
   "metadata": {},
   "source": [
    "# Big O notaion\n",
    "\n",
    "As data scientist, the algorithms/codes we write for production will be judged by two measurable parameters: \n",
    "    i.  Performance \n",
    "    ii. Complexity."
   ]
  },
  {
   "cell_type": "markdown",
   "metadata": {},
   "source": [
    "### Performance\n",
    "To measure the performance of our algorithm/code, we consider the time and space(memory) required for to solve the computational problem is was developed for.\n",
    "\n",
    "### Complexity\n",
    "Complexity measures performance(🤪), with respect to increase in input sieze. This complexity, is what is represented by Big O. \n",
    "\n",
    "### Big O\n",
    "Big O, summarises the time(T) and input relationship of an algorithm.\n",
    "Below is an explantion of five major types of Big O notations for algorithms.  \n"
   ]
  },
  {
   "cell_type": "markdown",
   "metadata": {},
   "source": [
    "#### Constant Complexity - O(1)\n",
    "Time taken for an algorithm to sole a problem is constant, regarles of time.\n",
    "\n",
    "#### Write a function that prints the name of the last person to join POD-3 session."
   ]
  },
  {
   "cell_type": "code",
   "execution_count": 4,
   "metadata": {},
   "outputs": [],
   "source": [
    "from datetime import date\n",
    "def last_person_to_join(names: list):\n",
    "    \"\"\" \n",
    "        This function prints name/last item on the list\n",
    "    \"\"\"\n",
    "    now = date.today()\n",
    "    year, month, day = now.year, now.month, now.day\n",
    "    print(f\"The last person to join POD-3 session on {day}-{month}-{year} is: {names[-1]}\")"
   ]
  },
  {
   "cell_type": "code",
   "execution_count": 25,
   "metadata": {},
   "outputs": [
    {
     "name": "stdout",
     "output_type": "stream",
     "text": [
      "The last person to join POD-3 session on 28-11-2021 is: Endy\n"
     ]
    }
   ],
   "source": [
    "some_pod_3_names = ['Emmanuel', 'Nolwazi', 'Ahmad', 'Endy']\n",
    "last_person_to_join(some_pod_3_names)\n"
   ]
  },
  {
   "cell_type": "markdown",
   "metadata": {},
   "source": [
    "#### Linear Complexity - O(n)\n",
    "Performance time(T) increases as input increases\n",
    "\n",
    "Write a function that returns the a name with first two chracters to match a string ."
   ]
  },
  {
   "cell_type": "code",
   "execution_count": 9,
   "metadata": {},
   "outputs": [],
   "source": [
    "def name_match(names: list, match: str) :\n",
    "    \"\"\" Returns the a word/name that matches the inputed string from a list.\n",
    "    \"\"\"\n",
    "    formated_match = match.lower()\n",
    "    for name in names: # Loops through the names list, if name list increases, the numbers of iteration increases, hence performance time too\n",
    "        if((name[0].lower() == formated_match[0]) & (name[1].lower() == formated_match[1])):\n",
    "            return name\n",
    "    return None\n",
    "        \n"
   ]
  },
  {
   "cell_type": "code",
   "execution_count": 13,
   "metadata": {},
   "outputs": [
    {
     "name": "stdout",
     "output_type": "stream",
     "text": [
      "The name is:  Endy\n"
     ]
    }
   ],
   "source": [
    "match = 'en'\n",
    "print(f\"The name is:  {name_match(some_pod_3_names, match)}\")\n"
   ]
  },
  {
   "cell_type": "markdown",
   "metadata": {},
   "source": [
    "#### Quadratic Complexity - O(n^2)\n",
    "Performance time(T) increses by squaroot of input size.\n",
    "\n",
    "Arrange POD-3 attendees name in ascending order of vowels characters in the name\n"
   ]
  },
  {
   "cell_type": "code",
   "execution_count": 30,
   "metadata": {},
   "outputs": [],
   "source": [
    "def get_vowel_count (word):\n",
    "    vowel_count = 0\n",
    "    if 'a' in word:\n",
    "        vowel_count += 1\n",
    "    if 'e' in word:\n",
    "        vowel_count += 1\n",
    "    if 'i' in word:\n",
    "        vowel_count += 1\n",
    "    if 'o' in word:\n",
    "        vowel_count += 1\n",
    "    if 'u' in word:\n",
    "        vowel_count += 1\n",
    "    return vowel_count\n",
    "\n",
    "def order_by_vowels(names: list):\n",
    "    print(f\" Original list is {names}\")\n",
    "    for first_index, first_name in enumerate(names): # first iteration(n)\n",
    "        for second_index, second_name in enumerate(names[first_index +1:]): #Second iteration(n). Total value for iteration = n * n \n",
    "            first_name_vowels = get_vowel_count(first_name.lower())\n",
    "            second_name_vowels = get_vowel_count(second_name.lower())\n",
    "            print(f\" first index: {first_index} , first name: {first_name}\")\n",
    "            print(f\" second index: {second_index} , second name: {second_name}\")\n",
    "            if(first_name_vowels > second_name_vowels):\n",
    "                names[first_index], names[second_index + 1] = names[second_index +1], names[first_index]\n",
    "    return names\n"
   ]
  },
  {
   "cell_type": "code",
   "execution_count": 31,
   "metadata": {},
   "outputs": [
    {
     "name": "stdout",
     "output_type": "stream",
     "text": [
      " Original list is ['Nolwazi', 'Emmanuel', 'Ahmad', 'Endy']\n",
      " first index: 0 , first name: Nolwazi\n",
      " second index: 0 , second name: Emmanuel\n",
      " first index: 0 , first name: Nolwazi\n",
      " second index: 1 , second name: Ahmad\n",
      " first index: 0 , first name: Nolwazi\n",
      " second index: 2 , second name: Endy\n",
      " first index: 1 , first name: Emmanuel\n",
      " second index: 0 , second name: Nolwazi\n",
      " first index: 1 , first name: Emmanuel\n",
      " second index: 1 , second name: Ahmad\n",
      " first index: 2 , first name: Emmanuel\n",
      " second index: 0 , second name: Ahmad\n",
      "Names in vowels ascending order are: ['Endy', 'Emmanuel', 'Nolwazi', 'Ahmad']\n"
     ]
    }
   ],
   "source": [
    "print(f'Names in vowels ascending order are: {order_by_vowels(some_pod_3_names)}')\n"
   ]
  }
 ],
 "metadata": {
  "interpreter": {
   "hash": "69b35e572c017242754d2580afe35edb3e077b807609d926fbd2f462de31a9e0"
  },
  "kernelspec": {
   "display_name": "Python 3.8.8 64-bit ('base': conda)",
   "language": "python",
   "name": "python3"
  },
  "language_info": {
   "codemirror_mode": {
    "name": "ipython",
    "version": 3
   },
   "file_extension": ".py",
   "mimetype": "text/x-python",
   "name": "python",
   "nbconvert_exporter": "python",
   "pygments_lexer": "ipython3",
   "version": "3.8.8"
  },
  "orig_nbformat": 4
 },
 "nbformat": 4,
 "nbformat_minor": 2
}
