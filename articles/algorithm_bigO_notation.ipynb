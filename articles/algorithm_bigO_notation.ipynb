{
 "cells": [
  {
   "cell_type": "markdown",
   "metadata": {},
   "source": [
    "# Big O notaion\n",
    "\n",
    "As data scientist, the algorithms/codes we write for production will be judged by two measurable parameters: \n",
    "    i.  Performance \n",
    "    ii. Complexity."
   ]
  },
  {
   "cell_type": "markdown",
   "metadata": {},
   "source": [
    "### Performance\n",
    "To measure the performance of our algorithm/code, we consider the time and space(memory) required to solve the computational problem.\n",
    "\n",
    "### Complexity\n",
    "Complexity measures performance(🤪), with respect to increase in input sieze. This complexity, is what is represented by Big O. \n",
    "\n",
    "### Big O\n",
    "Big O, summarises the time(T) and input relationship of an algorithm.\n",
    "Below is an explantion of five major types of Big O notations for algorithms.  \n"
   ]
  },
  {
   "cell_type": "markdown",
   "metadata": {},
   "source": [
    "#### Constant Complexity - O(1)\n",
    "Time taken for an algorithm to sole a problem is constant, regarles of time.\n",
    "\n",
    "#### Write a function that prints the name of the last person to join POD-3 session."
   ]
  },
  {
   "cell_type": "code",
   "execution_count": 1,
   "metadata": {},
   "outputs": [],
   "source": [
    "from datetime import date\n",
    "def last_person_to_join(names: list):\n",
    "    \"\"\" \n",
    "        This function prints name/last item on the list\n",
    "    \"\"\"\n",
    "    now = date.today()\n",
    "    year, month, day = now.year, now.month, now.day\n",
    "    print(f\"The last person to join POD-3 session on {day}-{month}-{year} is: {names[-1]}\")"
   ]
  },
  {
   "cell_type": "code",
   "execution_count": 46,
   "metadata": {},
   "outputs": [
    {
     "name": "stdout",
     "output_type": "stream",
     "text": [
      "The last person to join POD-3 session on 30-11-2021 is: Endy\n"
     ]
    }
   ],
   "source": [
    "some_pod_3_names = ['Emmanuel','Nolwazi','Chigozie', 'Chideramu', 'Caleb', 'Ahmad', 'Endy']\n",
    "last_person_to_join(some_pod_3_names)\n"
   ]
  },
  {
   "cell_type": "markdown",
   "metadata": {},
   "source": [
    "#### Linear Complexity - O(n)\n",
    "Performance time(T) increases as input increases\n",
    "\n",
    "Write a function that returns the a name with first two chracters to match a string ."
   ]
  },
  {
   "cell_type": "code",
   "execution_count": 9,
   "metadata": {},
   "outputs": [],
   "source": [
    "def name_match(names: list, match: str) :\n",
    "    \"\"\" Returns the a word/name that matches the inputed string from a list.\n",
    "    \"\"\"\n",
    "    formated_match = match.lower()\n",
    "    for name in names: # Loops through the names list, if name list increases, the numbers of iteration increases, hence performance time too\n",
    "        if((name[0].lower() == formated_match[0]) & (name[1].lower() == formated_match[1])):\n",
    "            return name\n",
    "    return None\n",
    "        \n"
   ]
  },
  {
   "cell_type": "code",
   "execution_count": 13,
   "metadata": {},
   "outputs": [
    {
     "name": "stdout",
     "output_type": "stream",
     "text": [
      "The name is:  Endy\n"
     ]
    }
   ],
   "source": [
    "match = 'en'\n",
    "print(f\"The name is:  {name_match(some_pod_3_names, match)}\")\n"
   ]
  },
  {
   "cell_type": "markdown",
   "metadata": {},
   "source": [
    "#### Quadratic Complexity - O(n^2)\n",
    "Performance time(T) increses by squaroot of input size.\n",
    "\n",
    "Arrange POD-3 attendees name in ascending order of vowels characters in the name\n"
   ]
  },
  {
   "cell_type": "code",
   "execution_count": 48,
   "metadata": {},
   "outputs": [],
   "source": [
    "def get_vowel_count (word):\n",
    "    vowel_count = 0\n",
    "    if 'a' in word:\n",
    "        vowel_count += 1\n",
    "    if 'e' in word:\n",
    "        vowel_count += 1\n",
    "    if 'i' in word:\n",
    "        vowel_count += 1\n",
    "    if 'o' in word:\n",
    "        vowel_count += 1\n",
    "    if 'u' in word:\n",
    "        vowel_count += 1\n",
    "    return vowel_count\n",
    "\n",
    "def order_by_vowels(names: list):\n",
    "    for first_index, first_name in enumerate(names): # first iteration(n)\n",
    "        #print(f\" Original list is {names[first_index:]}\")\n",
    "        #print(f'sliced array is : {names[first_index +1:]}')\n",
    "        for second_index, second_name in enumerate(names[first_index +1:]): #Second iteration(n). Total value for iteration = n * n \n",
    "            first_name_vowels = get_vowel_count(first_name.lower())\n",
    "            second_name_vowels = get_vowel_count(second_name.lower())\n",
    "            if(first_name_vowels > second_name_vowels):\n",
    "                holder = names[first_index]\n",
    "                names[first_index] = names[second_index + first_index + 1]\n",
    "                names[second_index + first_index + 1] =  holder\n",
    "    return names\n"
   ]
  },
  {
   "cell_type": "code",
   "execution_count": 49,
   "metadata": {},
   "outputs": [
    {
     "name": "stdout",
     "output_type": "stream",
     "text": [
      "Names in vowels ascending order are: ['Endy', 'Ahmad', 'Caleb', 'Chigozie', 'Nolwazi', 'Emmanuel', 'Chideramu']\n"
     ]
    }
   ],
   "source": [
    "print(f'Names in vowels ascending order are: {order_by_vowels(some_pod_3_names)}')\n"
   ]
  },
  {
   "cell_type": "markdown",
   "metadata": {},
   "source": [
    "#### Exponential Complexity- O(e^n)\n",
    "\n",
    "Sequel to the last three discused Big O Notation types, it can be concluded that the Big O of an algorithm, is a function of the number of iteration calls made by the algorithm. \n",
    "To explain can look as how to solve a problem recusively (Recursive Function).\n",
    "\n",
    "A function that calls its' self is called a recursive function. \n",
    "\n",
    "##### Write a function to claculate 5!"
   ]
  },
  {
   "cell_type": "code",
   "execution_count": 35,
   "metadata": {},
   "outputs": [],
   "source": [
    "# n * (n-1) * (n-2)* (n-3) * ... * (n -(n-1))\n",
    "def factoria_n(n):\n",
    "    if n == 1 :\n",
    "        return 1\n",
    "    return n * factoria_n(n -1)"
   ]
  },
  {
   "cell_type": "code",
   "execution_count": 34,
   "metadata": {},
   "outputs": [
    {
     "name": "stdout",
     "output_type": "stream",
     "text": [
      "Factorial of 5, is 120\n"
     ]
    }
   ],
   "source": [
    "number = 5\n",
    "print(f'Factorial of {number}, is {factoria_n(number)}')\n"
   ]
  },
  {
   "cell_type": "markdown",
   "metadata": {},
   "source": [
    "#### Logrithm Complexity- O(logN)"
   ]
  }
 ],
 "metadata": {
  "interpreter": {
   "hash": "69b35e572c017242754d2580afe35edb3e077b807609d926fbd2f462de31a9e0"
  },
  "kernelspec": {
   "display_name": "Python 3.8.8 64-bit ('base': conda)",
   "language": "python",
   "name": "python3"
  },
  "language_info": {
   "codemirror_mode": {
    "name": "ipython",
    "version": 3
   },
   "file_extension": ".py",
   "mimetype": "text/x-python",
   "name": "python",
   "nbconvert_exporter": "python",
   "pygments_lexer": "ipython3",
   "version": "3.8.8"
  },
  "orig_nbformat": 4
 },
 "nbformat": 4,
 "nbformat_minor": 2
}
